{
 "cells": [
  {
   "cell_type": "code",
   "execution_count": 1,
   "metadata": {},
   "outputs": [],
   "source": [
    "%matplotlib inline\n",
    "import pandas as pd\n",
    "import numpy as np\n",
    "import matplotlib.pyplot as plt\n",
    "import glob\n",
    "from sklearn.cluster import DBSCAN\n",
    "from sklearn import metrics\n",
    "import pylab as pl\n",
    "from scipy.spatial import ConvexHull, convex_hull_plot_2d\n",
    "\n",
    "# from matplotlib import animation, rc\n",
    "# from IPython.display import HTML\n",
    "from IPython import display\n",
    "pl.ion()"
   ]
  },
  {
   "cell_type": "code",
   "execution_count": 2,
   "metadata": {},
   "outputs": [
    {
     "name": "stdout",
     "output_type": "stream",
     "text": [
      "/home/tarang/Lidar_Project_Fall_2019_Tarang/April2020/Lidar_curb_detection/source/vscan_only\n"
     ]
    }
   ],
   "source": [
    "!pwd"
   ]
  },
  {
   "cell_type": "code",
   "execution_count": 3,
   "metadata": {},
   "outputs": [],
   "source": [
    "def visualize_dbscan(db):\n",
    "    core_samples_mask = np.zeros_like(db.labels_, dtype=bool)\n",
    "    core_samples_mask[db.core_sample_indices_] = True\n",
    "    labels = db.labels_\n",
    "\n",
    "    # Number of clusters in labels, ignoring noise if present.\n",
    "    n_clusters_ = len(set(labels)) - (1 if -1 in labels else 0)\n",
    "    n_noise_ = list(labels).count(-1)\n",
    "\n",
    "    print('Estimated number of clusters: %d' % n_clusters_)\n",
    "    print('Estimated number of noise points: %d' % n_noise_)\n",
    "    unique_labels = set(labels)\n",
    "    colors = [plt.cm.Spectral(each)\n",
    "              for each in np.linspace(0, 1, len(unique_labels))]\n",
    "    for k, col in zip(unique_labels, colors):\n",
    "        if k == -1:\n",
    "            # Black used for noise.\n",
    "            col = [0, 0, 0, 1]\n",
    "\n",
    "        class_member_mask = (labels == k)\n",
    "\n",
    "        xy = X[class_member_mask & core_samples_mask]\n",
    "        plt.plot(xy[:, 0], xy[:, 1], 'o', markerfacecolor=tuple(col),\n",
    "                 markeredgecolor='k', markersize=14)\n",
    "\n",
    "    #     xy = X[class_member_mask & ~core_samples_mask]\n",
    "    #     plt.plot(xy[:, 0], xy[:, 1], 'o', markerfacecolor=tuple(col),\n",
    "    #              markeredgecolor='k', markersize=6)\n",
    "\n",
    "    plt.title('Estimated number of clusters: %d' % n_clusters_)\n",
    "    plt.show()"
   ]
  },
  {
   "cell_type": "code",
   "execution_count": 5,
   "metadata": {},
   "outputs": [
    {
     "name": "stdout",
     "output_type": "stream",
     "text": [
      "351\n",
      "Original Points: 351\n"
     ]
    },
    {
     "data": {
      "image/png": "[encoded data removed]",
      "text/plain": [
       "<Figure size 432x288 with 1 Axes>"
      ]
     },
     "metadata": {
      "needs_background": "light"
     },
     "output_type": "display_data"
    }
   ],
   "source": [
    "def detect_boundary_2priors(df):\n",
    "    # Convert to numpy and do DBScan clustering\n",
    "    X = df.to_numpy()[:,:2]\n",
    "    db = DBSCAN(eps=0.5, min_samples=2).fit(X)\n",
    "\n",
    "    # Visualize dbscan clusters\n",
    "    # visualize_dbscan(db)\n",
    "\n",
    "    print(\"Original Points:\",df.to_numpy()[:,:2].shape[0])\n",
    "\n",
    "    # visualize points that were clustered\n",
    "    # pl.scatter(X[db.core_sample_indices_][:,0],X[db.core_sample_indices_][:,1])\n",
    "\n",
    "    filtered_X = X[db.core_sample_indices_]\n",
    "\n",
    "    # using 2 priors for now (y>0 and y<0)\n",
    "    # prior1 = df[df.y>0].to_numpy()[:,:2]\n",
    "    # prior2 = df[df.y<=0].to_numpy()[:,:2]\n",
    "    prior1= filtered_X[filtered_X[:,1]>0,:]\n",
    "    prior2 = filtered_X[filtered_X[:,1]<=0,:]\n",
    "\n",
    "\n",
    "\n",
    "    # # add points to prior\n",
    "    # 0,maxY and maxX,maxY to prior1\n",
    "    # 0, minY and maxX,minY to prior2\n",
    "\n",
    "    maxX = np.max(filtered_X[:,0])\n",
    "    maxY = np.max(filtered_X[:,1])\n",
    "    minY = np.min(filtered_X[:,1])\n",
    "    # print(prior1.shape, prior2.shape)\n",
    "    # print(maxX,maxY,minY)\n",
    "    prior1 = np.vstack([prior1,np.array([[0,maxY],[maxX,maxY]])])\n",
    "    prior2 = np.vstack([prior2,np.array([[0,minY],[maxX,minY]])])\n",
    "    # print(prior1.shape, prior2.shape)\n",
    "\n",
    "    # plot priors\n",
    "    # pl.scatter(prior1[:,0],prior1[:,1])\n",
    "    # pl.scatter(prior2[:,0],prior2[:,1])\n",
    "\n",
    "    # convex hull for priors\n",
    "    hull1 = ConvexHull(prior1)\n",
    "    hull2 = ConvexHull(prior2)\n",
    "\n",
    "    added_vertices_prior1 = [prior1.shape[0]-1,prior1.shape[0]-2]\n",
    "    added_vertices_prior2 = [prior2.shape[0]-1,prior2.shape[0]-2]\n",
    "\n",
    "\n",
    "    v1 = list(hull1.vertices)\n",
    "    for v in added_vertices_prior1:\n",
    "        v1.remove(v)\n",
    "\n",
    "    v2 = list(hull2.vertices)\n",
    "    for v in added_vertices_prior2:\n",
    "        v2.remove(v)\n",
    "\n",
    "    boundary1 = prior1[v1]\n",
    "    boundary2 = prior2[v2]\n",
    "    \n",
    "    priors = [prior1,prior2]\n",
    "    boundaries = [boundary1,boundary2]\n",
    "    return priors,boundaries\n",
    "    \n",
    "# load data\n",
    "# csvs = sorted(glob.glob(\"./frame_pointclouds/*.csv\"))\n",
    "df = pd.read_csv(\"./frame_pointclouds/frame_93.csv\")\n",
    "print(len(df))\n",
    "\n",
    "priors, boundaries = detect_boundary_2priors(df)\n",
    "\n",
    "for idx,prior in enumerate(priors):\n",
    "    # visualize points and line\n",
    "    pl.scatter(prior[:,0],prior[:,1])\n",
    "    pl.plot(boundaries[idx][:,0],boundaries[idx][:,1])\n",
    "#     pl.scatter(prior2[:,0],prior2[:,1])\n",
    "#     pl.plot(boundary2[:,0],boundary2[:,1])"
   ]
  },
  {
   "cell_type": "code",
   "execution_count": null,
   "metadata": {},
   "outputs": [],
   "source": []
  }
 ],
 "metadata": {
  "kernelspec": {
   "display_name": "Python (py36)",
   "language": "python",
   "name": "py36"
  },
  "language_info": {
   "codemirror_mode": {
    "name": "ipython",
    "version": 3
   },
   "file_extension": ".py",
   "mimetype": "text/x-python",
   "name": "python",
   "nbconvert_exporter": "python",
   "pygments_lexer": "ipython3",
   "version": "3.6.9"
  }
 },
 "nbformat": 4,
 "nbformat_minor": 4
}
